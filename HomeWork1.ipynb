{
 "cells": [
  {
   "cell_type": "markdown",
   "id": "5d557ab3-65a9-47d5-a07d-f92a8fda7f49",
   "metadata": {},
   "source": [
    "### ใบงานที่ 1 : การส่งการบ้านผ่าน Git hub\n"
   ]
  },
  {
   "cell_type": "markdown",
   "id": "050e5030-951e-49ed-b137-ce3b596df6f6",
   "metadata": {},
   "source": [
    "นายปริญญา เรืองคำ 6512732105"
   ]
  },
  {
   "cell_type": "code",
   "execution_count": 3,
   "id": "62ffe5ae-fadd-46eb-9a85-83cd895fab46",
   "metadata": {},
   "outputs": [
    {
     "name": "stdout",
     "output_type": "stream",
     "text": [
      "Hello World\n"
     ]
    }
   ],
   "source": [
    "print(\"Hello World\")"
   ]
  },
  {
   "cell_type": "code",
   "execution_count": 4,
   "id": "510401ec-705d-45e5-b85b-465105e18a1c",
   "metadata": {},
   "outputs": [
    {
     "name": "stdout",
     "output_type": "stream",
     "text": [
      "Edit\n"
     ]
    }
   ],
   "source": [
    "print(\"Edit\")"
   ]
  },
  {
   "cell_type": "code",
   "execution_count": null,
   "id": "7113ffd5-db8d-47ba-af30-b5a4a30f9aae",
   "metadata": {},
   "outputs": [],
   "source": []
  }
 ],
 "metadata": {
  "kernelspec": {
   "display_name": "Python 3 (ipykernel)",
   "language": "python",
   "name": "python3"
  },
  "language_info": {
   "codemirror_mode": {
    "name": "ipython",
    "version": 3
   },
   "file_extension": ".py",
   "mimetype": "text/x-python",
   "name": "python",
   "nbconvert_exporter": "python",
   "pygments_lexer": "ipython3",
   "version": "3.9.13"
  }
 },
 "nbformat": 4,
 "nbformat_minor": 5
}
