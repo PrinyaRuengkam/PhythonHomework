{
 "cells": [
  {
   "cell_type": "markdown",
   "id": "5d557ab3-65a9-47d5-a07d-f92a8fda7f49",
   "metadata": {},
   "source": [
    "### ใบงานที่ 1 : การส่งการบ้านผ่าน Git hub\n"
   ]
  },
  {
   "cell_type": "raw",
   "id": "f2184821-9cd1-417c-bd8c-703593e153f8",
   "metadata": {},
   "source": [
    "นายปริญญา เรืองคำ 6512732105"
   ]
  },
  {
   "cell_type": "code",
   "execution_count": null,
   "id": "62ffe5ae-fadd-46eb-9a85-83cd895fab46",
   "metadata": {},
   "outputs": [],
   "source": [
    "print (\"Hello World\")"
   ]
  },
  {
   "cell_type": "code",
   "execution_count": null,
   "id": "2b746620-9db5-41b0-b05e-667869dfc825",
   "metadata": {},
   "outputs": [],
   "source": []
  }
 ],
 "metadata": {
  "kernelspec": {
   "display_name": "Python 3 (ipykernel)",
   "language": "python",
   "name": "python3"
  },
  "language_info": {
   "codemirror_mode": {
    "name": "ipython",
    "version": 3
   },
   "file_extension": ".py",
   "mimetype": "text/x-python",
   "name": "python",
   "nbconvert_exporter": "python",
   "pygments_lexer": "ipython3",
   "version": "3.9.13"
  }
 },
 "nbformat": 4,
 "nbformat_minor": 5
}
